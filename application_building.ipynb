{
 "cells": [
  {
   "cell_type": "markdown",
   "metadata": {},
   "source": [
    "### As the given task is a `regression task` we will train a `Linear regression` for this. "
   ]
  },
  {
   "cell_type": "markdown",
   "metadata": {},
   "source": [
    "Importing all the required libraries."
   ]
  },
  {
   "cell_type": "code",
   "execution_count": 95,
   "metadata": {},
   "outputs": [],
   "source": [
    "import pandas as pd\n",
    "import matplotlib.pyplot as plt\n",
    "import torch\n",
    "import torch.nn as nn\n",
    "import sklearn"
   ]
  },
  {
   "cell_type": "markdown",
   "metadata": {},
   "source": [
    "##### Importing the `data set` and doing the `feature engineering`, preparing the data set for `training` the NN."
   ]
  },
  {
   "cell_type": "code",
   "execution_count": 72,
   "metadata": {},
   "outputs": [],
   "source": [
    "df = pd.read_excel(\"data.xlsx\")\n",
    "df = df.iloc[:,:5]\n"
   ]
  },
  {
   "cell_type": "code",
   "execution_count": 102,
   "metadata": {},
   "outputs": [],
   "source": [
    "df = pd.read_excel(\"data.xlsx\") # reading the data set \n",
    "df = df.iloc[:, :5] # selecting the important columns\n",
    "# replacing the column names\n",
    "df = df.rename(columns={\"MONATSZAHL\":\"Catagory\",\"AUSPRAEGUNG\":\"Accident-type\",\"JAHR\":\"Year\", \"MONAT\":\"Month\", \"WERT\":\"Value\"})\n",
    "# df = df[df['Year'] <= 2020] \n",
    "# df_filtered = df[df[\"Month\"]!=\"Summe\"]\n",
    "# df_filtered = df_filtered[(df_filtered[\"Catagory\"] == \"Alkoholunfälle\") & (df_filtered[\"Accident-type\"]==\"insgesamt\")]\n",
    "# # df_filtered[\"Month\"] = df_filtered[\"Month\"].astype(int)\n",
    "# # df_filtered[\"Month\"] = pd.to_datetime(df_filtered[\"Month\"], format = \"%Y%M\")\n",
    "# df_filtered[\"Month\"] = df_filtered[\"Month\"]%100 # extracting the months from the dataset.\n",
    "# df_filtered = df_filtered[\"Month\"].astype(int)\n",
    "# train_df = df_filtered[df_filtered[\"Year\"] <= 2020].reset_index(drop=True)\n",
    "# test_df = df_filtered[df_filtered[\"Year\"] == 2020].reset_index(drop = True)\n",
    "# train_df.head(3)\n",
    "df = df[df[\"Month\"] != \"Summe\"]\n",
    "df[\"Month\"] = df[\"Month\"]/100\n",
    "df_train = df[df[\"Year\"] <= 2020].reset_index(drop=True)\n",
    "df_test = df[df[\"Year\"] ==2021].reset_index(drop=True)\n"
   ]
  },
  {
   "cell_type": "code",
   "execution_count": 103,
   "metadata": {},
   "outputs": [],
   "source": [
    "df_train[\"Month\"] = df_train[\"Month\"].astype(int)\n",
    "df_test[\"Month\"] = df_test[\"Month\"].astype(int)\n",
    "df_train[\"Year\"] = df_train[\"Year\"].astype(int)\n",
    "df_test[\"Year\"] = df_test[\"Year\"].astype(int)\n",
    "df_train[\"Value\"] = df_train[\"Value\"].astype(float)\n",
    "df_test[\"Value\"] = df_test[\"Value\"].astype(float)\n",
    "\n",
    "df_train_X = df_train[[\"Year\",\"Month\"]]\n",
    "df_train_Y = df_train[[\"Value\"]]\n",
    "test_df_X = df_test[[\"Year\",\"Month\"]]\n",
    "test_df_Y = df_test[[\"Value\"]]\n"
   ]
  },
  {
   "cell_type": "markdown",
   "metadata": {},
   "source": [
    "The data has been devided in to the `train` and `test` splits now we will `train` our `application` with the help of this. "
   ]
  },
  {
   "cell_type": "code",
   "execution_count": null,
   "metadata": {},
   "outputs": [],
   "source": []
  }
 ],
 "metadata": {
  "kernelspec": {
   "display_name": "venv",
   "language": "python",
   "name": "python3"
  },
  "language_info": {
   "codemirror_mode": {
    "name": "ipython",
    "version": 3
   },
   "file_extension": ".py",
   "mimetype": "text/x-python",
   "name": "python",
   "nbconvert_exporter": "python",
   "pygments_lexer": "ipython3",
   "version": "3.8.10"
  }
 },
 "nbformat": 4,
 "nbformat_minor": 2
}
