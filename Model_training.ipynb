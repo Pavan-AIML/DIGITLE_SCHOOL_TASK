{
 "cells": [
  {
   "cell_type": "markdown",
   "metadata": {},
   "source": [
    "### As the given task is a `regression task` we will train a `Linear regression` for this. "
   ]
  },
  {
   "cell_type": "markdown",
   "metadata": {},
   "source": [
    "Importing all the required libraries."
   ]
  },
  {
   "cell_type": "code",
   "execution_count": 65,
   "metadata": {},
   "outputs": [],
   "source": [
    "import pandas as pd\n",
    "import matplotlib\n",
    "import matplotlib.pyplot as plt\n",
    "import torch\n",
    "import torch.nn as nn\n",
    "import sklearn\n",
    "import numpy as np\n",
    "import pickle\n",
    "import fastapi\n",
    "from sklearn.model_selection import train_test_split\n",
    "from sklearn.metrics import accuracy_score, classification_report"
   ]
  },
  {
   "cell_type": "markdown",
   "metadata": {},
   "source": [
    "##### Importing the `data set` and doing the `feature engineering`, preparing the data set for `training` the linear regression model."
   ]
  },
  {
   "cell_type": "code",
   "execution_count": 66,
   "metadata": {},
   "outputs": [
    {
     "data": {
      "text/html": [
       "<div>\n",
       "<style scoped>\n",
       "    .dataframe tbody tr th:only-of-type {\n",
       "        vertical-align: middle;\n",
       "    }\n",
       "\n",
       "    .dataframe tbody tr th {\n",
       "        vertical-align: top;\n",
       "    }\n",
       "\n",
       "    .dataframe thead th {\n",
       "        text-align: right;\n",
       "    }\n",
       "</style>\n",
       "<table border=\"1\" class=\"dataframe\">\n",
       "  <thead>\n",
       "    <tr style=\"text-align: right;\">\n",
       "      <th></th>\n",
       "      <th>MONATSZAHL</th>\n",
       "      <th>AUSPRAEGUNG</th>\n",
       "      <th>JAHR</th>\n",
       "      <th>MONAT</th>\n",
       "      <th>WERT</th>\n",
       "    </tr>\n",
       "  </thead>\n",
       "  <tbody>\n",
       "    <tr>\n",
       "      <th>0</th>\n",
       "      <td>Alkoholunfälle</td>\n",
       "      <td>insgesamt</td>\n",
       "      <td>2024</td>\n",
       "      <td>202401</td>\n",
       "      <td>NaN</td>\n",
       "    </tr>\n",
       "    <tr>\n",
       "      <th>1</th>\n",
       "      <td>Alkoholunfälle</td>\n",
       "      <td>insgesamt</td>\n",
       "      <td>2024</td>\n",
       "      <td>202402</td>\n",
       "      <td>NaN</td>\n",
       "    </tr>\n",
       "    <tr>\n",
       "      <th>2</th>\n",
       "      <td>Alkoholunfälle</td>\n",
       "      <td>insgesamt</td>\n",
       "      <td>2024</td>\n",
       "      <td>202403</td>\n",
       "      <td>NaN</td>\n",
       "    </tr>\n",
       "    <tr>\n",
       "      <th>3</th>\n",
       "      <td>Alkoholunfälle</td>\n",
       "      <td>insgesamt</td>\n",
       "      <td>2024</td>\n",
       "      <td>202404</td>\n",
       "      <td>NaN</td>\n",
       "    </tr>\n",
       "    <tr>\n",
       "      <th>4</th>\n",
       "      <td>Alkoholunfälle</td>\n",
       "      <td>insgesamt</td>\n",
       "      <td>2024</td>\n",
       "      <td>202405</td>\n",
       "      <td>NaN</td>\n",
       "    </tr>\n",
       "  </tbody>\n",
       "</table>\n",
       "</div>"
      ],
      "text/plain": [
       "       MONATSZAHL AUSPRAEGUNG  JAHR   MONAT  WERT\n",
       "0  Alkoholunfälle   insgesamt  2024  202401   NaN\n",
       "1  Alkoholunfälle   insgesamt  2024  202402   NaN\n",
       "2  Alkoholunfälle   insgesamt  2024  202403   NaN\n",
       "3  Alkoholunfälle   insgesamt  2024  202404   NaN\n",
       "4  Alkoholunfälle   insgesamt  2024  202405   NaN"
      ]
     },
     "execution_count": 66,
     "metadata": {},
     "output_type": "execute_result"
    }
   ],
   "source": [
    "df = pd.read_excel(\"data.xlsx\")\n",
    "df = df.iloc[:,:5]\n",
    "df.head()"
   ]
  },
  {
   "cell_type": "code",
   "execution_count": 67,
   "metadata": {},
   "outputs": [
    {
     "data": {
      "text/plain": [
       "'\\nHere as mentioned in the problem that the data after 2020 should be deleted  hence I have taken all the data for training fro the better predictions of \\nthe future here many things also can be done about precision and recall od the model and accuracy but as it was not mentioned in the task so I avoided it and made it very simple. \\n\\n'"
      ]
     },
     "execution_count": 67,
     "metadata": {},
     "output_type": "execute_result"
    }
   ],
   "source": [
    "df = pd.read_excel(\"data.xlsx\") # reading the data set \n",
    "df = df.iloc[:, :5] # selecting the important columns\n",
    "# replacing the column names\n",
    "df = df.rename(columns={\"MONATSZAHL\":\"Catagory\",\"AUSPRAEGUNG\":\"Accident-type\",\"JAHR\":\"Year\", \"MONAT\":\"Month\", \"WERT\":\"Value\"})\n",
    "df = df[df[\"Month\"] != \"Summe\"]\n",
    "df[\"Month\"] = df[\"Month\"]%100  # Taking the month values frrom the given format, here I have not converted the data in date format because it was \n",
    "\n",
    "df = df[df[\"Year\"] <= 2020].reset_index(drop=True)\n",
    "\n",
    "\"\"\"\n",
    "Here as mentioned in the problem that the data after 2020 should be deleted  hence I have taken all the data for training fro the better predictions of \n",
    "the future here many things also can be done about precision and recall od the model and accuracy but as it was not mentioned in the task so I avoided it and made it very simple. \n",
    "\n",
    "\"\"\"\n"
   ]
  },
  {
   "cell_type": "markdown",
   "metadata": {},
   "source": [
    "#### Data info."
   ]
  },
  {
   "cell_type": "code",
   "execution_count": 68,
   "metadata": {},
   "outputs": [
    {
     "name": "stdout",
     "output_type": "stream",
     "text": [
      "<class 'pandas.core.frame.DataFrame'>\n",
      "RangeIndex: 1764 entries, 0 to 1763\n",
      "Data columns (total 5 columns):\n",
      " #   Column         Non-Null Count  Dtype  \n",
      "---  ------         --------------  -----  \n",
      " 0   Catagory       1764 non-null   object \n",
      " 1   Accident-type  1764 non-null   object \n",
      " 2   Year           1764 non-null   int64  \n",
      " 3   Month          1764 non-null   object \n",
      " 4   Value          1764 non-null   float64\n",
      "dtypes: float64(1), int64(1), object(3)\n",
      "memory usage: 69.0+ KB\n"
     ]
    }
   ],
   "source": [
    "df.info()\n"
   ]
  },
  {
   "cell_type": "markdown",
   "metadata": {},
   "source": [
    "#### Train & Test splitting of the data"
   ]
  },
  {
   "cell_type": "code",
   "execution_count": 69,
   "metadata": {},
   "outputs": [],
   "source": [
    "df[\"Month\"] = df[\"Month\"].astype(int)\n",
    "df[\"Year\"] = df[\"Year\"].astype(int)\n",
    "df[\"Value\"] = df[\"Value\"].astype(int)\n",
    "\n",
    "X = df[[\"Year\",\"Month\"]]\n",
    "y = df[\"Value\"]"
   ]
  },
  {
   "cell_type": "markdown",
   "metadata": {},
   "source": [
    "Splitting the dataset for training."
   ]
  },
  {
   "cell_type": "code",
   "execution_count": 89,
   "metadata": {},
   "outputs": [],
   "source": [
    "X_train, X_test, y_train, y_test = train_test_split(X, y, test_size=0.2, random_state=42)\n"
   ]
  },
  {
   "cell_type": "markdown",
   "metadata": {},
   "source": [
    "The data has been devided in to the `train` and `test` splits now we will `train` our `application` with the help of this. "
   ]
  },
  {
   "cell_type": "code",
   "execution_count": 90,
   "metadata": {},
   "outputs": [
    {
     "data": {
      "text/html": [
       "<style>#sk-container-id-5 {color: black;}#sk-container-id-5 pre{padding: 0;}#sk-container-id-5 div.sk-toggleable {background-color: white;}#sk-container-id-5 label.sk-toggleable__label {cursor: pointer;display: block;width: 100%;margin-bottom: 0;padding: 0.3em;box-sizing: border-box;text-align: center;}#sk-container-id-5 label.sk-toggleable__label-arrow:before {content: \"▸\";float: left;margin-right: 0.25em;color: #696969;}#sk-container-id-5 label.sk-toggleable__label-arrow:hover:before {color: black;}#sk-container-id-5 div.sk-estimator:hover label.sk-toggleable__label-arrow:before {color: black;}#sk-container-id-5 div.sk-toggleable__content {max-height: 0;max-width: 0;overflow: hidden;text-align: left;background-color: #f0f8ff;}#sk-container-id-5 div.sk-toggleable__content pre {margin: 0.2em;color: black;border-radius: 0.25em;background-color: #f0f8ff;}#sk-container-id-5 input.sk-toggleable__control:checked~div.sk-toggleable__content {max-height: 200px;max-width: 100%;overflow: auto;}#sk-container-id-5 input.sk-toggleable__control:checked~label.sk-toggleable__label-arrow:before {content: \"▾\";}#sk-container-id-5 div.sk-estimator input.sk-toggleable__control:checked~label.sk-toggleable__label {background-color: #d4ebff;}#sk-container-id-5 div.sk-label input.sk-toggleable__control:checked~label.sk-toggleable__label {background-color: #d4ebff;}#sk-container-id-5 input.sk-hidden--visually {border: 0;clip: rect(1px 1px 1px 1px);clip: rect(1px, 1px, 1px, 1px);height: 1px;margin: -1px;overflow: hidden;padding: 0;position: absolute;width: 1px;}#sk-container-id-5 div.sk-estimator {font-family: monospace;background-color: #f0f8ff;border: 1px dotted black;border-radius: 0.25em;box-sizing: border-box;margin-bottom: 0.5em;}#sk-container-id-5 div.sk-estimator:hover {background-color: #d4ebff;}#sk-container-id-5 div.sk-parallel-item::after {content: \"\";width: 100%;border-bottom: 1px solid gray;flex-grow: 1;}#sk-container-id-5 div.sk-label:hover label.sk-toggleable__label {background-color: #d4ebff;}#sk-container-id-5 div.sk-serial::before {content: \"\";position: absolute;border-left: 1px solid gray;box-sizing: border-box;top: 0;bottom: 0;left: 50%;z-index: 0;}#sk-container-id-5 div.sk-serial {display: flex;flex-direction: column;align-items: center;background-color: white;padding-right: 0.2em;padding-left: 0.2em;position: relative;}#sk-container-id-5 div.sk-item {position: relative;z-index: 1;}#sk-container-id-5 div.sk-parallel {display: flex;align-items: stretch;justify-content: center;background-color: white;position: relative;}#sk-container-id-5 div.sk-item::before, #sk-container-id-5 div.sk-parallel-item::before {content: \"\";position: absolute;border-left: 1px solid gray;box-sizing: border-box;top: 0;bottom: 0;left: 50%;z-index: -1;}#sk-container-id-5 div.sk-parallel-item {display: flex;flex-direction: column;z-index: 1;position: relative;background-color: white;}#sk-container-id-5 div.sk-parallel-item:first-child::after {align-self: flex-end;width: 50%;}#sk-container-id-5 div.sk-parallel-item:last-child::after {align-self: flex-start;width: 50%;}#sk-container-id-5 div.sk-parallel-item:only-child::after {width: 0;}#sk-container-id-5 div.sk-dashed-wrapped {border: 1px dashed gray;margin: 0 0.4em 0.5em 0.4em;box-sizing: border-box;padding-bottom: 0.4em;background-color: white;}#sk-container-id-5 div.sk-label label {font-family: monospace;font-weight: bold;display: inline-block;line-height: 1.2em;}#sk-container-id-5 div.sk-label-container {text-align: center;}#sk-container-id-5 div.sk-container {/* jupyter's `normalize.less` sets `[hidden] { display: none; }` but bootstrap.min.css set `[hidden] { display: none !important; }` so we also need the `!important` here to be able to override the default hidden behavior on the sphinx rendered scikit-learn.org. See: https://github.com/scikit-learn/scikit-learn/issues/21755 */display: inline-block !important;position: relative;}#sk-container-id-5 div.sk-text-repr-fallback {display: none;}</style><div id=\"sk-container-id-5\" class=\"sk-top-container\"><div class=\"sk-text-repr-fallback\"><pre>LinearRegression()</pre><b>In a Jupyter environment, please rerun this cell to show the HTML representation or trust the notebook. <br />On GitHub, the HTML representation is unable to render, please try loading this page with nbviewer.org.</b></div><div class=\"sk-container\" hidden><div class=\"sk-item\"><div class=\"sk-estimator sk-toggleable\"><input class=\"sk-toggleable__control sk-hidden--visually\" id=\"sk-estimator-id-5\" type=\"checkbox\" checked><label for=\"sk-estimator-id-5\" class=\"sk-toggleable__label sk-toggleable__label-arrow\">LinearRegression</label><div class=\"sk-toggleable__content\"><pre>LinearRegression()</pre></div></div></div></div></div>"
      ],
      "text/plain": [
       "LinearRegression()"
      ]
     },
     "execution_count": 90,
     "metadata": {},
     "output_type": "execute_result"
    }
   ],
   "source": [
    "from sklearn.linear_model import LinearRegression\n",
    "model = LinearRegression()\n",
    "model.fit(X_train, y_train)"
   ]
  },
  {
   "cell_type": "markdown",
   "metadata": {},
   "source": [
    "Model `predictions` "
   ]
  },
  {
   "cell_type": "code",
   "execution_count": 91,
   "metadata": {},
   "outputs": [
    {
     "data": {
      "text/plain": [
       "795.0"
      ]
     },
     "execution_count": 91,
     "metadata": {},
     "output_type": "execute_result"
    }
   ],
   "source": [
    "y_predictions = model.predict(X_test)\n",
    "y_predictions.mean().round(0)\n"
   ]
  },
  {
   "cell_type": "code",
   "execution_count": 92,
   "metadata": {},
   "outputs": [
    {
     "data": {
      "text/plain": [
       "(353, 353, numpy.ndarray, pandas.core.series.Series)"
      ]
     },
     "execution_count": 92,
     "metadata": {},
     "output_type": "execute_result"
    }
   ],
   "source": [
    "y_predictions.size,  y_test.size, type(y_predictions), type(y_test)"
   ]
  },
  {
   "cell_type": "markdown",
   "metadata": {},
   "source": [
    "Model `Error`"
   ]
  },
  {
   "cell_type": "code",
   "execution_count": 93,
   "metadata": {},
   "outputs": [
    {
     "data": {
      "text/plain": [
       "1.559706751710689"
      ]
     },
     "execution_count": 93,
     "metadata": {},
     "output_type": "execute_result"
    }
   ],
   "source": [
    "from sklearn.metrics import mean_squared_error, accuracy_score\n",
    "# Calculate Mean Squared Error\n",
    "mse = mean_squared_error(y_predictions, y_test)\n",
    "# Calculate RRMSE\n",
    "rmse = np.sqrt(mse)\n",
    "test_df_Y_mean = np.mean(y_test)\n",
    "rrmse = rmse/test_df_Y_mean\n",
    "rrmse"
   ]
  },
  {
   "cell_type": "code",
   "execution_count": 83,
   "metadata": {},
   "outputs": [
    {
     "name": "stdout",
     "output_type": "stream",
     "text": [
      "<class 'numpy.ndarray'> <class 'numpy.ndarray'>\n",
      "353 353\n"
     ]
    },
    {
     "data": {
      "text/plain": [
       "(array([781.30925129, 797.05902862, 805.47087391, 829.93096419,\n",
       "        770.69007605, 855.16650007, 811.31741816, 782.02519347,\n",
       "        825.57580771, 783.15861016, 789.3631255 , 809.4680593 ,\n",
       "        784.5904945 , 828.85705092, 776.5366203 , 816.44802024,\n",
       "        843.47341156, 813.8827192 , 813.52474812, 806.90275826,\n",
       "        826.29174988, 760.48837532, 831.78032305, 825.21783662,\n",
       "        823.36847776, 772.897406  , 848.96198472, 826.29174988,\n",
       "        773.25537708, 803.62151504, 789.00515441, 851.52728576,\n",
       "        863.22037427, 769.2581917 , 848.96198472, 761.56228858,\n",
       "        788.28921224, 815.67257464, 744.02265582, 814.24069029,\n",
       "        811.67538925, 779.87736694, 772.897406  , 821.51911889,\n",
       "        851.52728576, 812.03336034, 816.44802024, 746.94592794,\n",
       "        783.15861016, 783.51658124, 758.63901645, 797.05902862,\n",
       "        741.45735478, 798.49091296, 821.16114781, 755.35777324,\n",
       "        857.37383002, 767.05086174, 831.78032305, 791.92842654,\n",
       "        773.61334817, 869.06691853, 783.51658124, 784.23252342,\n",
       "        794.49372758, 743.66468473, 746.22998577, 764.12758962,\n",
       "        843.47341156, 808.39414604, 831.42235196, 790.07906767,\n",
       "        777.67003699, 741.45735478, 761.56228858, 848.96198472,\n",
       "        778.38597916, 780.59330912, 782.02519347, 771.82349274,\n",
       "        780.23533803, 866.1436464 , 752.07653002, 808.39414604,\n",
       "        794.85169866, 763.41164744, 775.82067812, 756.07371541,\n",
       "        801.056214  , 802.54760178, 746.94592794, 752.7924722 ,\n",
       "        846.75465477, 729.40629518, 803.62151504, 860.65507323,\n",
       "        740.7414126 , 752.43450111, 798.49091296, 794.49372758,\n",
       "        820.80317672, 775.46270704, 810.95944708, 781.30925129,\n",
       "        769.2581917 , 809.82603038, 785.7239112 , 809.82603038,\n",
       "        828.85705092, 805.11290282, 778.74395025, 820.44520563,\n",
       "        790.43703876, 834.34562409, 817.87990459, 817.16396242,\n",
       "        793.36031089, 793.0023398 , 796.28358301, 783.87455233,\n",
       "        732.32956731, 829.21502201, 821.16114781, 831.42235196,\n",
       "        845.68074151, 776.17864921, 801.056214  , 854.80852898,\n",
       "        764.84353179, 772.53943491, 821.16114781, 767.40883283,\n",
       "        851.52728576, 785.7239112 , 767.40883283, 735.25283944,\n",
       "        831.42235196, 812.39133142, 843.11544047, 749.51122898,\n",
       "        770.33210496, 840.55013943, 735.25283944, 857.73180111,\n",
       "        809.11008821, 852.24322794, 818.59584677, 738.53408265,\n",
       "        790.43703876, 787.87173772, 811.31741816, 812.03336034,\n",
       "        795.56764084, 805.47087391, 747.30389903, 746.58795686,\n",
       "        761.92025966, 828.85705092, 732.32956731, 794.85169866,\n",
       "        824.08441993, 815.67257464, 789.00515441, 763.76961853,\n",
       "        784.23252342, 823.36847776, 781.30925129, 732.32956731,\n",
       "        827.00769206, 837.6268673 , 799.62432966, 738.53408265,\n",
       "        789.72109658, 783.51658124, 798.49091296, 765.97694848,\n",
       "        831.06438088, 744.02265582, 795.20966975, 798.13294188,\n",
       "        831.78032305, 840.90811052, 837.98483839, 802.90557287,\n",
       "        813.52474812, 822.65253558, 744.02265582, 803.26354396,\n",
       "        777.67003699, 794.49372758, 741.09938369, 854.80852898,\n",
       "        837.98483839, 774.38879378, 774.38879378, 767.40883283,\n",
       "        766.33491957, 746.94592794, 735.25283944, 860.29710214,\n",
       "        781.30925129, 789.00515441, 735.61081052, 827.00769206,\n",
       "        752.43450111, 758.99698754, 827.00769206, 775.10473595,\n",
       "        732.32956731, 775.46270704, 757.92307428, 786.43985337,\n",
       "        781.66722238, 779.10192134, 860.29710214, 835.06156626,\n",
       "        863.57834536, 800.34027183, 720.99444989, 869.06691853,\n",
       "        860.65507323, 796.28358301, 824.08441993, 774.74676486,\n",
       "        723.91772202, 761.20431749, 723.91772202, 809.82603038,\n",
       "        819.72926346, 804.69542831, 729.40629518, 817.87990459,\n",
       "        823.72644884, 773.61334817, 729.40629518, 783.87455233,\n",
       "        752.43450111, 811.31741816, 766.69289066, 802.90557287,\n",
       "        749.1532579 , 779.10192134, 761.20431749, 776.17864921,\n",
       "        740.7414126 , 834.70359518, 767.76680392, 791.92842654,\n",
       "        765.97694848, 796.28358301, 774.38879378, 744.02265582,\n",
       "        786.08188228, 792.64436871, 755.71574432, 824.08441993,\n",
       "        857.37383002, 754.99980215, 772.897406  , 837.26889622,\n",
       "        810.95944708, 855.16650007, 793.36031089, 720.99444989,\n",
       "        832.13829414, 823.72644884, 769.2581917 , 818.23787568,\n",
       "        837.6268673 , 794.49372758, 857.37383002, 789.72109658,\n",
       "        838.34280948, 793.0023398 , 805.47087391, 828.49907984,\n",
       "        747.30389903, 746.94592794, 755.35777324, 765.97694848,\n",
       "        792.28639762, 753.15044328, 852.24322794, 789.00515441,\n",
       "        735.61081052, 809.11008821, 793.36031089, 825.21783662,\n",
       "        823.01050667, 755.35777324, 826.29174988, 755.71574432,\n",
       "        805.11290282, 805.11290282, 846.39668368, 835.41953735,\n",
       "        769.2581917 , 732.6875384 , 754.64183106, 789.00515441,\n",
       "        779.45989243, 798.13294188, 775.82067812, 806.90275826,\n",
       "        744.02265582, 780.59330912, 827.00769206, 805.11290282,\n",
       "        763.41164744, 834.34562409, 735.25283944, 737.81814048,\n",
       "        812.39133142, 843.47341156, 805.828845  , 814.95663246,\n",
       "        764.84353179, 871.99019065, 793.0023398 , 763.41164744,\n",
       "        755.35777324, 840.19216834, 842.75746938, 791.92842654,\n",
       "        767.76680392, 806.18681608, 825.9337788 , 766.69289066,\n",
       "        836.91092513, 799.98230074, 761.56228858, 746.58795686,\n",
       "        837.26889622, 797.4169997 , 829.21502201, 770.33210496,\n",
       "        799.62432966, 797.4169997 , 803.62151504, 755.71574432,\n",
       "        795.92561193, 808.03617495, 780.59330912, 825.21783662,\n",
       "        766.33491957, 769.97413387, 783.15861016, 801.77215618,\n",
       "        784.94846559, 848.60401364, 826.29174988, 843.83138265,\n",
       "        843.11544047]),\n",
       " array([3667,   63,  595,  821,  242,   50,  568,  774, 3444,   44,  443,\n",
       "          24,   41,   36,  243,   66, 1022,  464,   85,   39,  531,   58,\n",
       "          61,   52, 3962,  946,   30,   17,  321,  637, 3611,  423,  873,\n",
       "          52,   11,   25,  978,   39,   22,   24, 3271,   77,  526,  496,\n",
       "         356,   34,  507,  237,  811,   27,  200,   26,  699,  604,  611,\n",
       "        1138,  384,   12,  477, 3622,  290,   35,   50, 1038,  582, 3380,\n",
       "          57, 2744,   44,  465,   34,   45,  729,   13,  760,  430,   43,\n",
       "          51,  265,  723,   76, 3550,   28,   26,   48, 3255,  906,  273,\n",
       "          54, 3859,   33,  279,  555,   35,   27,  967,  535,   33,   30,\n",
       "          33,   13, 3202,   10,   22,  618, 1018,  479,   54,  481, 1017,\n",
       "         460,  906,  954,    7,  514, 3695, 3940,    8,   13,  743,  343,\n",
       "          18,  752,  312,    6,   10, 1055, 3809,   19,   45, 4355,  263,\n",
       "         828,   50,   22,  393,    5,   35, 4043, 3271,   17,   25, 2892,\n",
       "         929,  794, 4348,  615,   21, 3796,   34,  962,   17,   28,  466,\n",
       "        2482,  854,    4,  393,   51,  832,   51,  622,   78,  387,    5,\n",
       "         532,   34,   20, 1187,  529,   77,   44,  719,  535,  487,  560,\n",
       "         466, 3461,   21,   61,  580,   36,  546,   76,  403,  468,  282,\n",
       "          55,   57,  462,   31,   13,   47, 4288,   83,  773,   55, 2901,\n",
       "          33,   20,  394,  787,   24,   81,  299,  320,   34,  482,  439,\n",
       "          33,  388, 3374,   49,  334,  381,  627,  864,   20,  835,   12,\n",
       "         453,  744,   72,  598,  448,  210,   44, 4260, 3205,   34,  890,\n",
       "         645,   49,  350,  419,   34,  385,  451,  396,  678, 3565,    4,\n",
       "           9, 3383,   36, 4533,  777,   65,   68,  334,   35,   14,   26,\n",
       "         454,  273, 1151,  479,  429,    5,  359,  882,   20,  427,   78,\n",
       "         614, 3431,  521,   61, 1042,   37,   27,   33,   29,   27, 3631,\n",
       "          27,  223,  279,   14,   46, 3193,  255,   45,  845,   13,  481,\n",
       "        1005,  942,   35, 4165, 1000,  340, 3931,  578,   16,   23,   48,\n",
       "         377,   96,   37,   28,  681, 3712, 3898,  229,  406,  762,   71,\n",
       "         632,  383,  817,   18, 1029,  448,  718,  887,  334,   33,  545,\n",
       "          56,   40,   49,   12,   38,    6,  466,   13,   27, 2888,  541,\n",
       "          26,  374,   33,  774,  936,   22, 1104,   48,  951,  802, 3533,\n",
       "          32, 2853,  416,   41,  373,   67,   36,    7,  810, 4130,  533,\n",
       "         939]),\n",
       " None)"
      ]
     },
     "execution_count": 83,
     "metadata": {},
     "output_type": "execute_result"
    }
   ],
   "source": [
    "import numpy as np\n",
    "print(type(y_predictions), type(y_test.values))\n",
    "y_predictions, y_test.values, print(y_predictions.size, y_test.values.size)"
   ]
  },
  {
   "cell_type": "markdown",
   "metadata": {},
   "source": [
    "Saving the model in the format of `pickle file`"
   ]
  },
  {
   "cell_type": "code",
   "execution_count": 167,
   "metadata": {},
   "outputs": [],
   "source": [
    "with open('regression_model.pkl', 'wb') as f:\n",
    "    pickle.dump(model, f)"
   ]
  },
  {
   "cell_type": "markdown",
   "metadata": {},
   "source": [
    "Model saving a `zip file` !"
   ]
  },
  {
   "cell_type": "code",
   "execution_count": 168,
   "metadata": {},
   "outputs": [
    {
     "name": "stdout",
     "output_type": "stream",
     "text": [
      "  adding: regression_model.pkl (deflated 24%)\n"
     ]
    }
   ],
   "source": [
    "!zip -r ./regression_model.pkl.zip ./regression_model.pkl"
   ]
  },
  {
   "cell_type": "code",
   "execution_count": 16,
   "metadata": {},
   "outputs": [
    {
     "name": "stderr",
     "output_type": "stream",
     "text": [
      "/Users/pavankumar/Documents/Winter_Semester24/DIGITLE_SCHOOL/venv/lib/python3.8/site-packages/sklearn/base.py:465: UserWarning: X does not have valid feature names, but LinearRegression was fitted with feature names\n",
      "  warnings.warn(\n"
     ]
    },
    {
     "data": {
      "text/plain": [
       "742.0"
      ]
     },
     "execution_count": 16,
     "metadata": {},
     "output_type": "execute_result"
    }
   ],
   "source": [
    "val = model.predict([[2010, 3]])\n",
    "val[0].round(0)"
   ]
  },
  {
   "cell_type": "code",
   "execution_count": 11,
   "metadata": {},
   "outputs": [
    {
     "data": {
      "text/plain": [
       "'1.3.2'"
      ]
     },
     "execution_count": 11,
     "metadata": {},
     "output_type": "execute_result"
    }
   ],
   "source": [
    "sklearn.__version__"
   ]
  },
  {
   "cell_type": "code",
   "execution_count": null,
   "metadata": {},
   "outputs": [],
   "source": [
    "\n"
   ]
  },
  {
   "cell_type": "code",
   "execution_count": null,
   "metadata": {},
   "outputs": [],
   "source": []
  },
  {
   "cell_type": "code",
   "execution_count": null,
   "metadata": {},
   "outputs": [],
   "source": []
  }
 ],
 "metadata": {
  "kernelspec": {
   "display_name": "venv",
   "language": "python",
   "name": "python3"
  },
  "language_info": {
   "codemirror_mode": {
    "name": "ipython",
    "version": 3
   },
   "file_extension": ".py",
   "mimetype": "text/x-python",
   "name": "python",
   "nbconvert_exporter": "python",
   "pygments_lexer": "ipython3",
   "version": "3.8.10"
  }
 },
 "nbformat": 4,
 "nbformat_minor": 2
}
